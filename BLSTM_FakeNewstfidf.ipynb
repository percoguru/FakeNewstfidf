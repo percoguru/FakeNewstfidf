{
  "nbformat": 4,
  "nbformat_minor": 0,
  "metadata": {
    "colab": {
      "name": "Copy of FakeNewstfidf.ipynb",
      "version": "0.3.2",
      "provenance": [],
      "collapsed_sections": []
    },
    "kernelspec": {
      "name": "python3",
      "display_name": "Python 3"
    },
    "accelerator": "GPU"
  },
  "cells": [
    {
      "cell_type": "code",
      "metadata": {
        "id": "_GRJV_oIsTTF",
        "colab_type": "code",
        "outputId": "6df00fbe-e411-459c-af2f-ad9d028e1a1b",
        "colab": {
          "base_uri": "https://localhost:8080/",
          "height": 34
        }
      },
      "source": [
        "cd drive/My Drive/Dataset"
      ],
      "execution_count": 0,
      "outputs": [
        {
          "output_type": "stream",
          "text": [
            "/content/drive/My Drive/Dataset\n"
          ],
          "name": "stdout"
        }
      ]
    },
    {
      "cell_type": "code",
      "metadata": {
        "id": "Y92vADsAa--Y",
        "colab_type": "code",
        "outputId": "fe7f5bab-78f8-42e4-e944-9b8caafeeb02",
        "colab": {
          "base_uri": "https://localhost:8080/",
          "height": 34
        }
      },
      "source": [
        "# Run this cell to mount your Google Drive.\n",
        "from google.colab import drive\n",
        "drive.mount('/content/drive')"
      ],
      "execution_count": 0,
      "outputs": [
        {
          "output_type": "stream",
          "text": [
            "Drive already mounted at /content/drive; to attempt to forcibly remount, call drive.mount(\"/content/drive\", force_remount=True).\n"
          ],
          "name": "stdout"
        }
      ]
    },
    {
      "cell_type": "code",
      "metadata": {
        "id": "Ur9xOE3p-Clu",
        "colab_type": "code",
        "colab": {}
      },
      "source": [
        "# This Python 3 environment comes with many helpful analytics libraries installed\n",
        "# It is defined by the kaggle/python docker image: https://github.com/kaggle/docker-python\n",
        "# For example, here's several helpful packages to load in \n",
        "\n",
        "import numpy as np # linear algebra\n",
        "import pandas as pd # data processing, CSV file I/O (e.g. pd.read_csv)\n",
        "\n",
        "# Input data files are available in the \"../input/\" directory.\n",
        "# For example, running this (by clicking run or pressing Shift+Enter) will list the files in the input directory\n",
        "\n",
        "import os\n",
        "# print(os.listdir(\"../input\"))\n",
        "\n",
        "import matplotlib.pyplot as plt"
      ],
      "execution_count": 0,
      "outputs": []
    },
    {
      "cell_type": "code",
      "metadata": {
        "id": "quTxymSC-Gnn",
        "colab_type": "code",
        "outputId": "c059b7d9-3764-4af4-dfb9-0f2affed5102",
        "colab": {
          "base_uri": "https://localhost:8080/",
          "height": 204
        }
      },
      "source": [
        "# (Read Data)\n",
        "data = pd.read_csv('train.csv')\n",
        "\n",
        "# 100% (Randomly Smaple data, ratio is 100%)\n",
        "data = data.sample(frac = 1)\n",
        "\n",
        "# (Show Data)\n",
        "data.head()"
      ],
      "execution_count": 107,
      "outputs": [
        {
          "output_type": "execute_result",
          "data": {
            "text/html": [
              "<div>\n",
              "<style scoped>\n",
              "    .dataframe tbody tr th:only-of-type {\n",
              "        vertical-align: middle;\n",
              "    }\n",
              "\n",
              "    .dataframe tbody tr th {\n",
              "        vertical-align: top;\n",
              "    }\n",
              "\n",
              "    .dataframe thead th {\n",
              "        text-align: right;\n",
              "    }\n",
              "</style>\n",
              "<table border=\"1\" class=\"dataframe\">\n",
              "  <thead>\n",
              "    <tr style=\"text-align: right;\">\n",
              "      <th></th>\n",
              "      <th>id</th>\n",
              "      <th>title</th>\n",
              "      <th>author</th>\n",
              "      <th>text</th>\n",
              "      <th>label</th>\n",
              "    </tr>\n",
              "  </thead>\n",
              "  <tbody>\n",
              "    <tr>\n",
              "      <th>11256</th>\n",
              "      <td>11256</td>\n",
              "      <td>Magnus Carlsen Overwhelms Challenger in Tiebre...</td>\n",
              "      <td>John Leland</td>\n",
              "      <td>It took nearly three weeks, 12 closely fought ...</td>\n",
              "      <td>0</td>\n",
              "    </tr>\n",
              "    <tr>\n",
              "      <th>13044</th>\n",
              "      <td>13044</td>\n",
              "      <td>’Ban Cars to Stop Terror’ Says Sweden’s Best-S...</td>\n",
              "      <td>Virginia Hale</td>\n",
              "      <td>Cars and other vehicles “have turned into dead...</td>\n",
              "      <td>0</td>\n",
              "    </tr>\n",
              "    <tr>\n",
              "      <th>8717</th>\n",
              "      <td>8717</td>\n",
              "      <td>Secret Emails From Hillary Clinton Reveal: The...</td>\n",
              "      <td>Walid Shoebat</td>\n",
              "      <td>Email \\nReading through Hillary and her ‘gang’...</td>\n",
              "      <td>1</td>\n",
              "    </tr>\n",
              "    <tr>\n",
              "      <th>8267</th>\n",
              "      <td>8267</td>\n",
              "      <td>SpaceX Rocket Explodes at Launchpad in Cape Ca...</td>\n",
              "      <td>Kenneth Chang, Mike Isaac and Matt Richtel</td>\n",
              "      <td>A spectacular explosion of a SpaceX rocket on ...</td>\n",
              "      <td>0</td>\n",
              "    </tr>\n",
              "    <tr>\n",
              "      <th>20780</th>\n",
              "      <td>20780</td>\n",
              "      <td>Florida Woman Charged in Death of Infant in ‘C...</td>\n",
              "      <td>Christine Hauser</td>\n",
              "      <td>Early on Oct. 6, Erin   was awakened by the so...</td>\n",
              "      <td>0</td>\n",
              "    </tr>\n",
              "  </tbody>\n",
              "</table>\n",
              "</div>"
            ],
            "text/plain": [
              "          id  ... label\n",
              "11256  11256  ...     0\n",
              "13044  13044  ...     0\n",
              "8717    8717  ...     1\n",
              "8267    8267  ...     0\n",
              "20780  20780  ...     0\n",
              "\n",
              "[5 rows x 5 columns]"
            ]
          },
          "metadata": {
            "tags": []
          },
          "execution_count": 107
        }
      ]
    },
    {
      "cell_type": "code",
      "metadata": {
        "id": "NfFNXUuU-eWF",
        "colab_type": "code",
        "outputId": "b963bcfd-d204-4a83-b4f0-99f5625a827c",
        "colab": {
          "base_uri": "https://localhost:8080/",
          "height": 204
        }
      },
      "source": [
        "\n",
        "# (Create a new column called Length that record every Headline length)\n",
        "data['Length'] = [len(headline) for headline in data['title'].fillna('')]\n",
        "data.head()"
      ],
      "execution_count": 108,
      "outputs": [
        {
          "output_type": "execute_result",
          "data": {
            "text/html": [
              "<div>\n",
              "<style scoped>\n",
              "    .dataframe tbody tr th:only-of-type {\n",
              "        vertical-align: middle;\n",
              "    }\n",
              "\n",
              "    .dataframe tbody tr th {\n",
              "        vertical-align: top;\n",
              "    }\n",
              "\n",
              "    .dataframe thead th {\n",
              "        text-align: right;\n",
              "    }\n",
              "</style>\n",
              "<table border=\"1\" class=\"dataframe\">\n",
              "  <thead>\n",
              "    <tr style=\"text-align: right;\">\n",
              "      <th></th>\n",
              "      <th>id</th>\n",
              "      <th>title</th>\n",
              "      <th>author</th>\n",
              "      <th>text</th>\n",
              "      <th>label</th>\n",
              "      <th>Length</th>\n",
              "    </tr>\n",
              "  </thead>\n",
              "  <tbody>\n",
              "    <tr>\n",
              "      <th>11256</th>\n",
              "      <td>11256</td>\n",
              "      <td>Magnus Carlsen Overwhelms Challenger in Tiebre...</td>\n",
              "      <td>John Leland</td>\n",
              "      <td>It took nearly three weeks, 12 closely fought ...</td>\n",
              "      <td>0</td>\n",
              "      <td>104</td>\n",
              "    </tr>\n",
              "    <tr>\n",
              "      <th>13044</th>\n",
              "      <td>13044</td>\n",
              "      <td>’Ban Cars to Stop Terror’ Says Sweden’s Best-S...</td>\n",
              "      <td>Virginia Hale</td>\n",
              "      <td>Cars and other vehicles “have turned into dead...</td>\n",
              "      <td>0</td>\n",
              "      <td>85</td>\n",
              "    </tr>\n",
              "    <tr>\n",
              "      <th>8717</th>\n",
              "      <td>8717</td>\n",
              "      <td>Secret Emails From Hillary Clinton Reveal: The...</td>\n",
              "      <td>Walid Shoebat</td>\n",
              "      <td>Email \\nReading through Hillary and her ‘gang’...</td>\n",
              "      <td>1</td>\n",
              "      <td>218</td>\n",
              "    </tr>\n",
              "    <tr>\n",
              "      <th>8267</th>\n",
              "      <td>8267</td>\n",
              "      <td>SpaceX Rocket Explodes at Launchpad in Cape Ca...</td>\n",
              "      <td>Kenneth Chang, Mike Isaac and Matt Richtel</td>\n",
              "      <td>A spectacular explosion of a SpaceX rocket on ...</td>\n",
              "      <td>0</td>\n",
              "      <td>74</td>\n",
              "    </tr>\n",
              "    <tr>\n",
              "      <th>20780</th>\n",
              "      <td>20780</td>\n",
              "      <td>Florida Woman Charged in Death of Infant in ‘C...</td>\n",
              "      <td>Christine Hauser</td>\n",
              "      <td>Early on Oct. 6, Erin   was awakened by the so...</td>\n",
              "      <td>0</td>\n",
              "      <td>83</td>\n",
              "    </tr>\n",
              "  </tbody>\n",
              "</table>\n",
              "</div>"
            ],
            "text/plain": [
              "          id                                              title  ... label Length\n",
              "11256  11256  Magnus Carlsen Overwhelms Challenger in Tiebre...  ...     0    104\n",
              "13044  13044  ’Ban Cars to Stop Terror’ Says Sweden’s Best-S...  ...     0     85\n",
              "8717    8717  Secret Emails From Hillary Clinton Reveal: The...  ...     1    218\n",
              "8267    8267  SpaceX Rocket Explodes at Launchpad in Cape Ca...  ...     0     74\n",
              "20780  20780  Florida Woman Charged in Death of Infant in ‘C...  ...     0     83\n",
              "\n",
              "[5 rows x 6 columns]"
            ]
          },
          "metadata": {
            "tags": []
          },
          "execution_count": 108
        }
      ]
    },
    {
      "cell_type": "code",
      "metadata": {
        "id": "sbCfcUT1-h6n",
        "colab_type": "code",
        "outputId": "03c5c920-f058-4de9-8415-11831afabf2b",
        "colab": {
          "base_uri": "https://localhost:8080/",
          "height": 170
        }
      },
      "source": [
        "detail = data['Length'].describe()\n",
        "print(detail)"
      ],
      "execution_count": 109,
      "outputs": [
        {
          "output_type": "stream",
          "text": [
            "count    20800.000000\n",
            "mean        72.325577\n",
            "std         25.812558\n",
            "min          0.000000\n",
            "25%         59.000000\n",
            "50%         75.000000\n",
            "75%         87.000000\n",
            "max        456.000000\n",
            "Name: Length, dtype: float64\n"
          ],
          "name": "stdout"
        }
      ]
    },
    {
      "cell_type": "code",
      "metadata": {
        "id": "lJOz0149-mXM",
        "colab_type": "code",
        "outputId": "60ff86f9-8d1d-4f7b-8604-392bade81478",
        "colab": {
          "base_uri": "https://localhost:8080/",
          "height": 102
        }
      },
      "source": [
        "# Get all fake news\n",
        "fliter = data['label'] == 1\n",
        "pos = data[fliter]\n",
        "print('', len(pos))\n",
        "\n",
        "# Get all true news\n",
        "fliter = data['label'] == 0\n",
        "neg = data[fliter]\n",
        "print('', len(neg))\n",
        "\n",
        "the_mean = min(len(pos), len(neg))\n",
        "print(\"==============================================\")\n",
        "\n",
        "# 抓取所有 Label為1的 資料，並重新洗牌 (Random Shuffle)\n",
        "p_data = pos.sample(n = the_mean)\n",
        "print('', len(p_data))\n",
        "\n",
        "# 抓取所有 Label為0的 資料，並重新洗牌 (Random Shuffle)\n",
        "n_data = neg.sample(n = the_mean)\n",
        "print('', len(n_data))"
      ],
      "execution_count": 110,
      "outputs": [
        {
          "output_type": "stream",
          "text": [
            " 10413\n",
            " 10387\n",
            "==============================================\n",
            " 10387\n",
            " 10387\n"
          ],
          "name": "stdout"
        }
      ]
    },
    {
      "cell_type": "code",
      "metadata": {
        "id": "5rY3b65E-vQO",
        "colab_type": "code",
        "outputId": "76b040df-315b-475a-f6e6-f405cad1e8d8",
        "colab": {
          "base_uri": "https://localhost:8080/",
          "height": 85
        }
      },
      "source": [
        "test_split = 0.2\n",
        "train_split = 1 - test_split\n",
        "\n",
        "\n",
        "# (20% for Testing Data, others 80% for Training Data)\n",
        "p_train_data = p_data.sample(frac = train_split)\n",
        "p_test_data = p_data.drop(p_train_data.index)\n",
        "\n",
        "n_train_data = n_data.sample(frac = train_split)\n",
        "n_test_data = n_data.drop(n_train_data.index)\n",
        "\n",
        "\n",
        "# (Combined fake news and true news)\n",
        "train_data = pd.concat([p_train_data, n_train_data])\n",
        "test_data = pd.concat([p_test_data, n_test_data])\n",
        "\n",
        "# (Random Shuffle)\n",
        "train_data = train_data.sample(frac = 1)\n",
        "test_data = test_data.sample(frac = 1)\n",
        "\n",
        "x_train_data = train_data['title'].fillna('')\n",
        "y_train_data = train_data['label']\n",
        "x_test_data = test_data['title'].fillna('')\n",
        "y_test_data = test_data['label']\n",
        "\n",
        "print('Train Data Feature：', len(x_train_data))\n",
        "print('Train DataLabel：', len(y_train_data))\n",
        "print('Test Data Feature：', len(x_test_data))\n",
        "print('Test Data Label：', len(y_test_data))\n"
      ],
      "execution_count": 111,
      "outputs": [
        {
          "output_type": "stream",
          "text": [
            "Train Data Feature： 16620\n",
            "Train DataLabel： 16620\n",
            "Test Data Feature： 4154\n",
            "Test Data Label： 4154\n"
          ],
          "name": "stdout"
        }
      ]
    },
    {
      "cell_type": "code",
      "metadata": {
        "id": "bAWQk25--2C2",
        "colab_type": "code",
        "colab": {}
      },
      "source": [
        "from keras.preprocessing import sequence\n",
        "from keras.preprocessing.text import Tokenizer"
      ],
      "execution_count": 0,
      "outputs": []
    },
    {
      "cell_type": "code",
      "metadata": {
        "id": "6P1ZtwSn--bX",
        "colab_type": "code",
        "colab": {}
      },
      "source": [
        "# (Create a token dictionary)\n",
        "token_num = 4000 \n",
        "\n",
        "# (Get a fix length, we chose the mean of the Headline length)\n",
        "data_length = int(detail['mean'])\n",
        "\n",
        "# (Word Embeding output vector dimension)\n",
        "output_length = 32 \n",
        "\n",
        "dropout = 0.5\n",
        "lstm_dim = 256\n"
      ],
      "execution_count": 0,
      "outputs": []
    },
    {
      "cell_type": "code",
      "metadata": {
        "id": "f1OhSmXV_CDV",
        "colab_type": "code",
        "colab": {}
      },
      "source": [
        "token = Tokenizer(num_words = token_num, filters = '!\"#$%&()*+,-./:;<=>?@[\\\\]^_`{|}~\\t\\n')\n",
        "token.fit_on_texts(x_train_data)"
      ],
      "execution_count": 0,
      "outputs": []
    },
    {
      "cell_type": "code",
      "metadata": {
        "id": "iLfMV7P2_Eio",
        "colab_type": "code",
        "colab": {}
      },
      "source": [
        "x_train_seq = token.texts_to_sequences(x_train_data)\n",
        "x_test_seq = token.texts_to_sequences(x_test_data)\n"
      ],
      "execution_count": 0,
      "outputs": []
    },
    {
      "cell_type": "code",
      "metadata": {
        "id": "26iLNDc6_HE8",
        "colab_type": "code",
        "colab": {}
      },
      "source": [
        "x_train = sequence.pad_sequences(x_train_seq, maxlen = data_length)\n",
        "x_test = sequence.pad_sequences(x_test_seq, maxlen = data_length)"
      ],
      "execution_count": 0,
      "outputs": []
    },
    {
      "cell_type": "code",
      "metadata": {
        "id": "XcMhxKGC_KG9",
        "colab_type": "code",
        "colab": {}
      },
      "source": [
        "from keras.models import Sequential\n",
        "from keras.layers.core import Dense, Dropout, Activation\n",
        "from keras.layers.embeddings import Embedding\n",
        "from keras.layers.recurrent import LSTM\n",
        "from keras.layers import Bidirectional, TimeDistributed\n",
        "from keras.callbacks import EarlyStopping"
      ],
      "execution_count": 0,
      "outputs": []
    },
    {
      "cell_type": "code",
      "metadata": {
        "id": "atcf3Yb5_M-p",
        "colab_type": "code",
        "outputId": "7c4d5a38-8812-43be-cf6d-69304d858f74",
        "colab": {
          "base_uri": "https://localhost:8080/",
          "height": 391
        }
      },
      "source": [
        "model = Sequential()\n",
        "model.add(Embedding(output_dim = output_length, input_dim = token_num, input_length = data_length))\n",
        "model.add(Dropout(dropout))\n",
        "\n",
        "# using BLSTM (this will be better than LSTM, Avg acc is around 0.94\n",
        "model.add(Bidirectional(LSTM(lstm_dim), merge_mode = 'sum'))\n",
        "model.add(Dropout(dropout))\n",
        "\n",
        "# using LSTM, Avg acc is around 0.93\n",
        "#model.add(LSTM(lstm_dim))\n",
        "#model.add(Dropout(dropout))\n",
        "\n",
        "model.add(Dense(units = 256, activation = 'relu'))\n",
        "model.add(Dropout(dropout))\n",
        "\n",
        "model.add(Dense(units = 1, activation = 'sigmoid'))\n",
        "print(model.summary())"
      ],
      "execution_count": 123,
      "outputs": [
        {
          "output_type": "stream",
          "text": [
            "_________________________________________________________________\n",
            "Layer (type)                 Output Shape              Param #   \n",
            "=================================================================\n",
            "embedding_19 (Embedding)     (None, 72, 32)            128000    \n",
            "_________________________________________________________________\n",
            "dropout_44 (Dropout)         (None, 72, 32)            0         \n",
            "_________________________________________________________________\n",
            "bidirectional_19 (Bidirectio (None, 256)               591872    \n",
            "_________________________________________________________________\n",
            "dropout_45 (Dropout)         (None, 256)               0         \n",
            "_________________________________________________________________\n",
            "dense_35 (Dense)             (None, 256)               65792     \n",
            "_________________________________________________________________\n",
            "dropout_46 (Dropout)         (None, 256)               0         \n",
            "_________________________________________________________________\n",
            "dense_36 (Dense)             (None, 1)                 257       \n",
            "=================================================================\n",
            "Total params: 785,921\n",
            "Trainable params: 785,921\n",
            "Non-trainable params: 0\n",
            "_________________________________________________________________\n",
            "None\n"
          ],
          "name": "stdout"
        }
      ]
    },
    {
      "cell_type": "code",
      "metadata": {
        "id": "zPxhGj9n_QRH",
        "colab_type": "code",
        "colab": {}
      },
      "source": [
        "model.compile(loss = 'binary_crossentropy', optimizer = 'adam', metrics = ['accuracy'])"
      ],
      "execution_count": 0,
      "outputs": []
    },
    {
      "cell_type": "code",
      "metadata": {
        "id": "mx1pZv90_S75",
        "colab_type": "code",
        "colab": {}
      },
      "source": [
        "\n",
        "es = EarlyStopping(monitor = 'val_loss', patience = 2, verbose = 2)"
      ],
      "execution_count": 0,
      "outputs": []
    },
    {
      "cell_type": "code",
      "metadata": {
        "id": "mU42Ibl-_VL1",
        "colab_type": "code",
        "outputId": "a4a53a64-414b-4977-d676-a4fb556ad996",
        "colab": {
          "base_uri": "https://localhost:8080/",
          "height": 204
        }
      },
      "source": [
        "train_history = model.fit(x = x_train,\n",
        "                         y = y_train_data,\n",
        "                         validation_split = 0.2,\n",
        "                         epochs = 5,\n",
        "                         batch_size = 512,\n",
        "                         verbose = 1,\n",
        "                         )\n"
      ],
      "execution_count": 125,
      "outputs": [
        {
          "output_type": "stream",
          "text": [
            "Train on 13296 samples, validate on 3324 samples\n",
            "Epoch 1/5\n",
            "13296/13296 [==============================] - 15s 1ms/step - loss: 0.6279 - acc: 0.6858 - val_loss: 0.4973 - val_acc: 0.8201\n",
            "Epoch 2/5\n",
            "13296/13296 [==============================] - 6s 485us/step - loss: 0.3288 - acc: 0.8791 - val_loss: 0.2393 - val_acc: 0.8995\n",
            "Epoch 3/5\n",
            "13296/13296 [==============================] - 6s 487us/step - loss: 0.1752 - acc: 0.9343 - val_loss: 0.1835 - val_acc: 0.9302\n",
            "Epoch 4/5\n",
            "13296/13296 [==============================] - 6s 487us/step - loss: 0.1202 - acc: 0.9552 - val_loss: 0.1711 - val_acc: 0.9389\n",
            "Epoch 5/5\n",
            "13296/13296 [==============================] - 6s 481us/step - loss: 0.0949 - acc: 0.9645 - val_loss: 0.1694 - val_acc: 0.9377\n"
          ],
          "name": "stdout"
        }
      ]
    },
    {
      "cell_type": "code",
      "metadata": {
        "id": "RpQTO3apO9kW",
        "colab_type": "code",
        "colab": {
          "base_uri": "https://localhost:8080/",
          "height": 102
        },
        "outputId": "622cc7bc-f611-42c6-bd68-44155502682f"
      },
      "source": [
        "train_history = model.fit(x = x_train,\n",
        "                         y = y_train_data,\n",
        "                         validation_split = 0.3,\n",
        "                         epochs = 2,\n",
        "                         batch_size = 512,\n",
        "                         verbose = 1,\n",
        "                         )"
      ],
      "execution_count": 126,
      "outputs": [
        {
          "output_type": "stream",
          "text": [
            "Train on 11634 samples, validate on 4986 samples\n",
            "Epoch 1/2\n",
            "11634/11634 [==============================] - 6s 546us/step - loss: 0.0777 - acc: 0.9716 - val_loss: 0.1347 - val_acc: 0.9535\n",
            "Epoch 2/2\n",
            "11634/11634 [==============================] - 6s 519us/step - loss: 0.0631 - acc: 0.9780 - val_loss: 0.1470 - val_acc: 0.9513\n"
          ],
          "name": "stdout"
        }
      ]
    },
    {
      "cell_type": "code",
      "metadata": {
        "id": "8-ym1JmePLsH",
        "colab_type": "code",
        "colab": {
          "base_uri": "https://localhost:8080/",
          "height": 68
        },
        "outputId": "c3f374f2-741b-48fc-84e2-f9756c570149"
      },
      "source": [
        "train_history = model.fit(x = x_train,\n",
        "                         y = y_train_data,\n",
        "                         validation_split = 0.4,\n",
        "                         epochs = 1,\n",
        "                         batch_size = 512,\n",
        "                         verbose = 1,\n",
        "                         )"
      ],
      "execution_count": 127,
      "outputs": [
        {
          "output_type": "stream",
          "text": [
            "Train on 9972 samples, validate on 6648 samples\n",
            "Epoch 1/1\n",
            "9972/9972 [==============================] - 6s 588us/step - loss: 0.0545 - acc: 0.9803 - val_loss: 0.1242 - val_acc: 0.9604\n"
          ],
          "name": "stdout"
        }
      ]
    }
  ]
}