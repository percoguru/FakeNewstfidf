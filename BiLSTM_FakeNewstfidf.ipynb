{
  "nbformat": 4,
  "nbformat_minor": 0,
  "metadata": {
    "colab": {
      "name": "Copy of FakeNewstfidf.ipynb",
      "version": "0.3.2",
      "provenance": [],
      "collapsed_sections": []
    },
    "kernelspec": {
      "name": "python3",
      "display_name": "Python 3"
    },
    "accelerator": "GPU"
  },
  "cells": [
    {
      "cell_type": "code",
      "metadata": {
        "id": "_GRJV_oIsTTF",
        "colab_type": "code",
        "outputId": "6df00fbe-e411-459c-af2f-ad9d028e1a1b",
        "colab": {
          "base_uri": "https://localhost:8080/",
          "height": 34
        }
      },
      "source": [
        "cd drive/My Drive/Dataset"
      ],
      "execution_count": 0,
      "outputs": [
        {
          "output_type": "stream",
          "text": [
            "/content/drive/My Drive/Dataset\n"
          ],
          "name": "stdout"
        }
      ]
    },
    {
      "cell_type": "code",
      "metadata": {
        "id": "Y92vADsAa--Y",
        "colab_type": "code",
        "outputId": "fe7f5bab-78f8-42e4-e944-9b8caafeeb02",
        "colab": {
          "base_uri": "https://localhost:8080/",
          "height": 34
        }
      },
      "source": [
        "# Run this cell to mount your Google Drive.\n",
        "from google.colab import drive\n",
        "drive.mount('/content/drive')"
      ],
      "execution_count": 0,
      "outputs": [
        {
          "output_type": "stream",
          "text": [
            "Drive already mounted at /content/drive; to attempt to forcibly remount, call drive.mount(\"/content/drive\", force_remount=True).\n"
          ],
          "name": "stdout"
        }
      ]
    },
    {
      "cell_type": "code",
      "metadata": {
        "id": "Ur9xOE3p-Clu",
        "colab_type": "code",
        "colab": {}
      },
      "source": [
        "# This Python 3 environment comes with many helpful analytics libraries installed\n",
        "# It is defined by the kaggle/python docker image: https://github.com/kaggle/docker-python\n",
        "# For example, here's several helpful packages to load in \n",
        "\n",
        "import numpy as np # linear algebra\n",
        "import pandas as pd # data processing, CSV file I/O (e.g. pd.read_csv)\n",
        "\n",
        "# Input data files are available in the \"../input/\" directory.\n",
        "# For example, running this (by clicking run or pressing Shift+Enter) will list the files in the input directory\n",
        "\n",
        "import os\n",
        "# print(os.listdir(\"../input\"))\n",
        "\n",
        "import matplotlib.pyplot as plt"
      ],
      "execution_count": 0,
      "outputs": []
    },
    {
      "cell_type": "code",
      "metadata": {
        "id": "quTxymSC-Gnn",
        "colab_type": "code",
        "outputId": "75e9a90f-5598-4b8b-a53e-1938a789b059",
        "colab": {
          "base_uri": "https://localhost:8080/",
          "height": 204
        }
      },
      "source": [
        "# 讀取檔案 (Read Data)\n",
        "data = pd.read_csv('train.csv')\n",
        "\n",
        "# 隨機抽樣 比率為100% (Randomly Smaple data, ratio is 100%)\n",
        "data = data.sample(frac = 1)\n",
        "\n",
        "# 顯示資料的前五筆 (Show Data)\n",
        "data.head()"
      ],
      "execution_count": 0,
      "outputs": [
        {
          "output_type": "execute_result",
          "data": {
            "text/html": [
              "<div>\n",
              "<style scoped>\n",
              "    .dataframe tbody tr th:only-of-type {\n",
              "        vertical-align: middle;\n",
              "    }\n",
              "\n",
              "    .dataframe tbody tr th {\n",
              "        vertical-align: top;\n",
              "    }\n",
              "\n",
              "    .dataframe thead th {\n",
              "        text-align: right;\n",
              "    }\n",
              "</style>\n",
              "<table border=\"1\" class=\"dataframe\">\n",
              "  <thead>\n",
              "    <tr style=\"text-align: right;\">\n",
              "      <th></th>\n",
              "      <th>id</th>\n",
              "      <th>title</th>\n",
              "      <th>author</th>\n",
              "      <th>text</th>\n",
              "      <th>label</th>\n",
              "    </tr>\n",
              "  </thead>\n",
              "  <tbody>\n",
              "    <tr>\n",
              "      <th>6392</th>\n",
              "      <td>6392</td>\n",
              "      <td>Politicians to Skip Boston St. Patrick’s Day P...</td>\n",
              "      <td>Liam Stack</td>\n",
              "      <td>Some of Massachusetts’s top politicians said o...</td>\n",
              "      <td>0</td>\n",
              "    </tr>\n",
              "    <tr>\n",
              "      <th>7160</th>\n",
              "      <td>7160</td>\n",
              "      <td>Turkish Government Arrests Opposition Parliame...</td>\n",
              "      <td>NaN</td>\n",
              "      <td>Turkish Government Arrests Opposition Parliame...</td>\n",
              "      <td>1</td>\n",
              "    </tr>\n",
              "    <tr>\n",
              "      <th>14155</th>\n",
              "      <td>14155</td>\n",
              "      <td>This Professor Devotes Her Life to Countering ...</td>\n",
              "      <td>Henry Wolff</td>\n",
              "      <td>Loading Posted on November 2, 2016 This Profes...</td>\n",
              "      <td>1</td>\n",
              "    </tr>\n",
              "    <tr>\n",
              "      <th>833</th>\n",
              "      <td>833</td>\n",
              "      <td>Trump Organization Moves to Avoid Possible Con...</td>\n",
              "      <td>Noam Scheiber</td>\n",
              "      <td>In its latest effort to defuse a major public ...</td>\n",
              "      <td>0</td>\n",
              "    </tr>\n",
              "    <tr>\n",
              "      <th>18868</th>\n",
              "      <td>18868</td>\n",
              "      <td>BREAKING: Melania Trump’s Immigration Records ...</td>\n",
              "      <td>NaN</td>\n",
              "      <td>on November 4, 2016 10:58 pm · \\nGOP president...</td>\n",
              "      <td>1</td>\n",
              "    </tr>\n",
              "  </tbody>\n",
              "</table>\n",
              "</div>"
            ],
            "text/plain": [
              "          id  ... label\n",
              "6392    6392  ...     0\n",
              "7160    7160  ...     1\n",
              "14155  14155  ...     1\n",
              "833      833  ...     0\n",
              "18868  18868  ...     1\n",
              "\n",
              "[5 rows x 5 columns]"
            ]
          },
          "metadata": {
            "tags": []
          },
          "execution_count": 5
        }
      ]
    },
    {
      "cell_type": "code",
      "metadata": {
        "id": "NfFNXUuU-eWF",
        "colab_type": "code",
        "outputId": "385aca88-dd34-40ad-d1e5-5fcddb12b5e9",
        "colab": {
          "base_uri": "https://localhost:8080/",
          "height": 204
        }
      },
      "source": [
        "# 新增Length欄位，紀錄每個標題文字總長度\n",
        "# (Create a new column called Length that record every Headline length)\n",
        "data['Length'] = [len(headline) for headline in data['title'].fillna('')]\n",
        "data.head()"
      ],
      "execution_count": 0,
      "outputs": [
        {
          "output_type": "execute_result",
          "data": {
            "text/html": [
              "<div>\n",
              "<style scoped>\n",
              "    .dataframe tbody tr th:only-of-type {\n",
              "        vertical-align: middle;\n",
              "    }\n",
              "\n",
              "    .dataframe tbody tr th {\n",
              "        vertical-align: top;\n",
              "    }\n",
              "\n",
              "    .dataframe thead th {\n",
              "        text-align: right;\n",
              "    }\n",
              "</style>\n",
              "<table border=\"1\" class=\"dataframe\">\n",
              "  <thead>\n",
              "    <tr style=\"text-align: right;\">\n",
              "      <th></th>\n",
              "      <th>id</th>\n",
              "      <th>title</th>\n",
              "      <th>author</th>\n",
              "      <th>text</th>\n",
              "      <th>label</th>\n",
              "      <th>Length</th>\n",
              "    </tr>\n",
              "  </thead>\n",
              "  <tbody>\n",
              "    <tr>\n",
              "      <th>6392</th>\n",
              "      <td>6392</td>\n",
              "      <td>Politicians to Skip Boston St. Patrick’s Day P...</td>\n",
              "      <td>Liam Stack</td>\n",
              "      <td>Some of Massachusetts’s top politicians said o...</td>\n",
              "      <td>0</td>\n",
              "      <td>98</td>\n",
              "    </tr>\n",
              "    <tr>\n",
              "      <th>7160</th>\n",
              "      <td>7160</td>\n",
              "      <td>Turkish Government Arrests Opposition Parliame...</td>\n",
              "      <td>NaN</td>\n",
              "      <td>Turkish Government Arrests Opposition Parliame...</td>\n",
              "      <td>1</td>\n",
              "      <td>93</td>\n",
              "    </tr>\n",
              "    <tr>\n",
              "      <th>14155</th>\n",
              "      <td>14155</td>\n",
              "      <td>This Professor Devotes Her Life to Countering ...</td>\n",
              "      <td>Henry Wolff</td>\n",
              "      <td>Loading Posted on November 2, 2016 This Profes...</td>\n",
              "      <td>1</td>\n",
              "      <td>96</td>\n",
              "    </tr>\n",
              "    <tr>\n",
              "      <th>833</th>\n",
              "      <td>833</td>\n",
              "      <td>Trump Organization Moves to Avoid Possible Con...</td>\n",
              "      <td>Noam Scheiber</td>\n",
              "      <td>In its latest effort to defuse a major public ...</td>\n",
              "      <td>0</td>\n",
              "      <td>85</td>\n",
              "    </tr>\n",
              "    <tr>\n",
              "      <th>18868</th>\n",
              "      <td>18868</td>\n",
              "      <td>BREAKING: Melania Trump’s Immigration Records ...</td>\n",
              "      <td>NaN</td>\n",
              "      <td>on November 4, 2016 10:58 pm · \\nGOP president...</td>\n",
              "      <td>1</td>\n",
              "      <td>133</td>\n",
              "    </tr>\n",
              "  </tbody>\n",
              "</table>\n",
              "</div>"
            ],
            "text/plain": [
              "          id                                              title  ... label Length\n",
              "6392    6392  Politicians to Skip Boston St. Patrick’s Day P...  ...     0     98\n",
              "7160    7160  Turkish Government Arrests Opposition Parliame...  ...     1     93\n",
              "14155  14155  This Professor Devotes Her Life to Countering ...  ...     1     96\n",
              "833      833  Trump Organization Moves to Avoid Possible Con...  ...     0     85\n",
              "18868  18868  BREAKING: Melania Trump’s Immigration Records ...  ...     1    133\n",
              "\n",
              "[5 rows x 6 columns]"
            ]
          },
          "metadata": {
            "tags": []
          },
          "execution_count": 6
        }
      ]
    },
    {
      "cell_type": "code",
      "metadata": {
        "id": "sbCfcUT1-h6n",
        "colab_type": "code",
        "outputId": "0a4c7647-cf20-4211-dc94-940cb9436670",
        "colab": {
          "base_uri": "https://localhost:8080/",
          "height": 170
        }
      },
      "source": [
        "detail = data['Length'].describe()\n",
        "print(detail)"
      ],
      "execution_count": 0,
      "outputs": [
        {
          "output_type": "stream",
          "text": [
            "count    20800.000000\n",
            "mean        72.325577\n",
            "std         25.812558\n",
            "min          0.000000\n",
            "25%         59.000000\n",
            "50%         75.000000\n",
            "75%         87.000000\n",
            "max        456.000000\n",
            "Name: Length, dtype: float64\n"
          ],
          "name": "stdout"
        }
      ]
    },
    {
      "cell_type": "code",
      "metadata": {
        "id": "lJOz0149-mXM",
        "colab_type": "code",
        "outputId": "babe4639-33cf-4dfd-9a0b-a01d1aafed25",
        "colab": {
          "base_uri": "https://localhost:8080/",
          "height": 102
        }
      },
      "source": [
        "# Get all fake news\n",
        "fliter = data['label'] == 1\n",
        "pos = data[fliter]\n",
        "print('是假新聞的數量(原始)：', len(pos))\n",
        "\n",
        "# Get all true news\n",
        "fliter = data['label'] == 0\n",
        "neg = data[fliter]\n",
        "print('真新聞的數量(原始)：', len(neg))\n",
        "\n",
        "the_mean = min(len(pos), len(neg))\n",
        "print(\"==============================================\")\n",
        "\n",
        "# 抓取所有 Label為1的 資料，並重新洗牌 (Random Shuffle)\n",
        "p_data = pos.sample(n = the_mean)\n",
        "print('取樣是假新聞資料總數：', len(p_data))\n",
        "\n",
        "# 抓取所有 Label為0的 資料，並重新洗牌 (Random Shuffle)\n",
        "n_data = neg.sample(n = the_mean)\n",
        "print('取樣不是假新聞資料總數：', len(n_data))"
      ],
      "execution_count": 0,
      "outputs": [
        {
          "output_type": "stream",
          "text": [
            "是假新聞的數量(原始)： 10413\n",
            "真新聞的數量(原始)： 10387\n",
            "==============================================\n",
            "取樣是假新聞資料總數： 10387\n",
            "取樣不是假新聞資料總數： 10387\n"
          ],
          "name": "stdout"
        }
      ]
    },
    {
      "cell_type": "code",
      "metadata": {
        "id": "5rY3b65E-vQO",
        "colab_type": "code",
        "outputId": "f7aa07c7-19ba-4ca6-a048-935d3f076de2",
        "colab": {
          "base_uri": "https://localhost:8080/",
          "height": 85
        }
      },
      "source": [
        "test_split = 0.2\n",
        "train_split = 1 - test_split\n",
        "\n",
        "\n",
        "\n",
        "# 隨機抽樣80%的資料當訓練資料 而剩下的20%則當為測試資料\n",
        "# (20% for Testing Data, others 80% for Training Data)\n",
        "p_train_data = p_data.sample(frac = train_split)\n",
        "p_test_data = p_data.drop(p_train_data.index)\n",
        "\n",
        "n_train_data = n_data.sample(frac = train_split)\n",
        "n_test_data = n_data.drop(n_train_data.index)\n",
        "\n",
        "# 合併兩個類別的訓練資料與測試資料\n",
        "# (Combined fake news and true news)\n",
        "train_data = pd.concat([p_train_data, n_train_data])\n",
        "test_data = pd.concat([p_test_data, n_test_data])\n",
        "\n",
        "# 全部隨機洗牌 (Random Shuffle)\n",
        "train_data = train_data.sample(frac = 1)\n",
        "test_data = test_data.sample(frac = 1)\n",
        "\n",
        "x_train_data = train_data['title'].fillna('')\n",
        "y_train_data = train_data['label']\n",
        "x_test_data = test_data['title'].fillna('')\n",
        "y_test_data = test_data['label']\n",
        "\n",
        "print('Train Data的Feature數量(已混合非假與假新聞)：', len(x_train_data))\n",
        "print('Train Data的Label數量(已混合非假與假新聞)：', len(y_train_data))\n",
        "print('Test Data的Feature數量(已混合非假與假新聞)：', len(x_test_data))\n",
        "print('Test Data的Label數量(已混合非假與假新聞)：', len(y_test_data))\n"
      ],
      "execution_count": 0,
      "outputs": [
        {
          "output_type": "stream",
          "text": [
            "Train Data的Feature數量(已混合非假與假新聞)： 16620\n",
            "Train Data的Label數量(已混合非假與假新聞)： 16620\n",
            "Test Data的Feature數量(已混合非假與假新聞)： 4154\n",
            "Test Data的Label數量(已混合非假與假新聞)： 4154\n"
          ],
          "name": "stdout"
        }
      ]
    },
    {
      "cell_type": "code",
      "metadata": {
        "id": "bAWQk25--2C2",
        "colab_type": "code",
        "outputId": "1d6951c9-bdf5-427b-ffc3-73cc4c2a2596",
        "colab": {
          "base_uri": "https://localhost:8080/",
          "height": 34
        }
      },
      "source": [
        "from keras.preprocessing import sequence\n",
        "from keras.preprocessing.text import Tokenizer"
      ],
      "execution_count": 0,
      "outputs": [
        {
          "output_type": "stream",
          "text": [
            "Using TensorFlow backend.\n"
          ],
          "name": "stderr"
        }
      ]
    },
    {
      "cell_type": "code",
      "metadata": {
        "id": "6P1ZtwSn--bX",
        "colab_type": "code",
        "colab": {}
      },
      "source": [
        "# token字典數量 (最常出現的4000字) (Create a token dictionary)\n",
        "token_num = 4000 \n",
        "\n",
        "# 擷取多少固定長度字數 (抓標題字數的平均值 72個長度)\n",
        "# (Get a fix length, we chose the mean of the Headline length)\n",
        "data_length = int(detail['mean'])\n",
        "\n",
        "# 輸入向量維度 (Word Embeding output vector dimension)\n",
        "output_length = 32 \n",
        "\n",
        "dropout = 0.5\n",
        "lstm_dim = 256\n"
      ],
      "execution_count": 0,
      "outputs": []
    },
    {
      "cell_type": "code",
      "metadata": {
        "id": "f1OhSmXV_CDV",
        "colab_type": "code",
        "colab": {}
      },
      "source": [
        "token = Tokenizer(num_words = token_num, filters = '!\"#$%&()*+,-./:;<=>?@[\\\\]^_`{|}~\\t\\n')\n",
        "token.fit_on_texts(x_train_data)"
      ],
      "execution_count": 0,
      "outputs": []
    },
    {
      "cell_type": "code",
      "metadata": {
        "id": "iLfMV7P2_Eio",
        "colab_type": "code",
        "colab": {}
      },
      "source": [
        "x_train_seq = token.texts_to_sequences(x_train_data)\n",
        "x_test_seq = token.texts_to_sequences(x_test_data)\n"
      ],
      "execution_count": 0,
      "outputs": []
    },
    {
      "cell_type": "code",
      "metadata": {
        "id": "26iLNDc6_HE8",
        "colab_type": "code",
        "colab": {}
      },
      "source": [
        "x_train = sequence.pad_sequences(x_train_seq, maxlen = data_length)\n",
        "x_test = sequence.pad_sequences(x_test_seq, maxlen = data_length)"
      ],
      "execution_count": 0,
      "outputs": []
    },
    {
      "cell_type": "code",
      "metadata": {
        "id": "XcMhxKGC_KG9",
        "colab_type": "code",
        "colab": {}
      },
      "source": [
        "from keras.models import Sequential\n",
        "from keras.layers.core import Dense, Dropout, Activation\n",
        "from keras.layers.embeddings import Embedding\n",
        "from keras.layers.recurrent import LSTM\n",
        "from keras.layers import Bidirectional, TimeDistributed\n",
        "from keras.callbacks import EarlyStopping"
      ],
      "execution_count": 0,
      "outputs": []
    },
    {
      "cell_type": "code",
      "metadata": {
        "id": "atcf3Yb5_M-p",
        "colab_type": "code",
        "outputId": "86e4adb6-3b1d-4097-84dd-e057e2c8f401",
        "colab": {
          "base_uri": "https://localhost:8080/",
          "height": 391
        }
      },
      "source": [
        "model = Sequential()\n",
        "model.add(Embedding(output_dim = output_length, input_dim = token_num, input_length = data_length))\n",
        "model.add(Dropout(dropout))\n",
        "\n",
        "# using BLSTM (this will be better than LSTM, Avg acc is around 0.94\n",
        "model.add(Bidirectional(LSTM(lstm_dim), merge_mode = 'sum'))\n",
        "model.add(Dropout(dropout))\n",
        "\n",
        "# using LSTM, Avg acc is around 0.93\n",
        "#model.add(LSTM(lstm_dim))\n",
        "#model.add(Dropout(dropout))\n",
        "\n",
        "model.add(Dense(units = 256, activation = 'relu'))\n",
        "model.add(Dropout(dropout))\n",
        "\n",
        "model.add(Dense(units = 1, activation = 'sigmoid'))\n",
        "print(model.summary())"
      ],
      "execution_count": 100,
      "outputs": [
        {
          "output_type": "stream",
          "text": [
            "_________________________________________________________________\n",
            "Layer (type)                 Output Shape              Param #   \n",
            "=================================================================\n",
            "embedding_17 (Embedding)     (None, 72, 32)            128000    \n",
            "_________________________________________________________________\n",
            "dropout_38 (Dropout)         (None, 72, 32)            0         \n",
            "_________________________________________________________________\n",
            "bidirectional_17 (Bidirectio (None, 256)               591872    \n",
            "_________________________________________________________________\n",
            "dropout_39 (Dropout)         (None, 256)               0         \n",
            "_________________________________________________________________\n",
            "dense_31 (Dense)             (None, 256)               65792     \n",
            "_________________________________________________________________\n",
            "dropout_40 (Dropout)         (None, 256)               0         \n",
            "_________________________________________________________________\n",
            "dense_32 (Dense)             (None, 1)                 257       \n",
            "=================================================================\n",
            "Total params: 785,921\n",
            "Trainable params: 785,921\n",
            "Non-trainable params: 0\n",
            "_________________________________________________________________\n",
            "None\n"
          ],
          "name": "stdout"
        }
      ]
    },
    {
      "cell_type": "code",
      "metadata": {
        "id": "zPxhGj9n_QRH",
        "colab_type": "code",
        "colab": {}
      },
      "source": [
        "model.compile(loss = 'binary_crossentropy', optimizer = 'adam', metrics = ['accuracy'])"
      ],
      "execution_count": 0,
      "outputs": []
    },
    {
      "cell_type": "code",
      "metadata": {
        "id": "mx1pZv90_S75",
        "colab_type": "code",
        "colab": {}
      },
      "source": [
        "# 提早結束\n",
        "es = EarlyStopping(monitor = 'val_loss', patience = 2, verbose = 2)"
      ],
      "execution_count": 0,
      "outputs": []
    },
    {
      "cell_type": "code",
      "metadata": {
        "id": "mU42Ibl-_VL1",
        "colab_type": "code",
        "outputId": "db0e7818-8ca6-4228-a016-30e1e7d23a1e",
        "colab": {
          "base_uri": "https://localhost:8080/",
          "height": 68
        }
      },
      "source": [
        "train_history = model.fit(x = x_train,\n",
        "                         y = y_train_data,\n",
        "                         validation_split = 0.4,\n",
        "                         epochs = 1,\n",
        "                         batch_size = 512,\n",
        "                         verbose = 1,\n",
        "                        \n",
        "                         )\n"
      ],
      "execution_count": 105,
      "outputs": [
        {
          "output_type": "stream",
          "text": [
            "Train on 9972 samples, validate on 6648 samples\n",
            "Epoch 1/1\n",
            "9972/9972 [==============================] - 6s 584us/step - loss: 0.0539 - acc: 0.9807 - val_loss: 0.1156 - val_acc: 0.9639\n"
          ],
          "name": "stdout"
        }
      ]
    }
  ]
}